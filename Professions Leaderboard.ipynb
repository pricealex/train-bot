{
 "cells": [
  {
   "cell_type": "code",
   "execution_count": 1,
   "metadata": {},
   "outputs": [],
   "source": [
    "import pandas as pd\n",
    "import numpy as np\n",
    "import requests, json\n",
    "import sys\n",
    "import os\n",
    "\n"
   ]
  },
  {
   "cell_type": "code",
   "execution_count": 2,
   "metadata": {},
   "outputs": [],
   "source": [
    "client_id = os.environ['BNET_CLIENT_ID']\n",
    "client_secret = os.environ['BNET_SECRET']\n",
    "\n",
    "client_id = os.environ['BNET_CLIENT_ID']\n",
    "client_secret = os.environ['BNET_SECRET']\n",
    "\n",
    "def create_access_token(client_id, client_secret, region = 'us'):\n",
    "    data = { 'grant_type': 'client_credentials' }\n",
    "    response = requests.post('https://%s.battle.net/oauth/token' % region, data=data, auth=(client_id, client_secret))\n",
    "    return response.json()\n",
    "\n",
    "token = create_access_token(client_id, client_secret)['access_token']"
   ]
  },
  {
   "cell_type": "code",
   "execution_count": null,
   "metadata": {},
   "outputs": [],
   "source": []
  }
 ],
 "metadata": {
  "kernelspec": {
   "display_name": "Python 3",
   "language": "python",
   "name": "python3"
  },
  "language_info": {
   "codemirror_mode": {
    "name": "ipython",
    "version": 3
   },
   "file_extension": ".py",
   "mimetype": "text/x-python",
   "name": "python",
   "nbconvert_exporter": "python",
   "pygments_lexer": "ipython3",
   "version": "3.10.8"
  }
 },
 "nbformat": 4,
 "nbformat_minor": 2
}
