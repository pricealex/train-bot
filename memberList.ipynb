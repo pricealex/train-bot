{
 "cells": [
  {
   "cell_type": "code",
   "execution_count": 3,
   "metadata": {},
   "outputs": [],
   "source": [
    "import pandas as pd\n",
    "import numpy as np\n",
    "import requests, json\n",
    "import os"
   ]
  },
  {
   "cell_type": "code",
   "execution_count": 5,
   "metadata": {},
   "outputs": [],
   "source": [
    "client_id = os.environ['BNET_CLIENT_ID']\n",
    "client_secret = os.environ['BNET_SECRET']\n",
    "\n",
    "def create_access_token(client_id, client_secret, region = 'us'):\n",
    "    data = { 'grant_type': 'client_credentials' }\n",
    "    response = requests.post('https://%s.battle.net/oauth/token' % region, data=data, auth=(client_id, client_secret))\n",
    "    return response.json()\n",
    "\n",
    "token = create_access_token(client_id, client_secret)['access_token']"
   ]
  },
  {
   "cell_type": "markdown",
   "metadata": {},
   "source": [
    "# Member List"
   ]
  },
  {
   "cell_type": "code",
   "execution_count": 6,
   "metadata": {},
   "outputs": [
    {
     "data": {
      "text/html": [
       "<div>\n",
       "<style scoped>\n",
       "    .dataframe tbody tr th:only-of-type {\n",
       "        vertical-align: middle;\n",
       "    }\n",
       "\n",
       "    .dataframe tbody tr th {\n",
       "        vertical-align: top;\n",
       "    }\n",
       "\n",
       "    .dataframe thead th {\n",
       "        text-align: right;\n",
       "    }\n",
       "</style>\n",
       "<table border=\"1\" class=\"dataframe\">\n",
       "  <thead>\n",
       "    <tr style=\"text-align: right;\">\n",
       "      <th></th>\n",
       "      <th>char_id</th>\n",
       "      <th>char_level</th>\n",
       "      <th>char_class</th>\n",
       "    </tr>\n",
       "    <tr>\n",
       "      <th>char_name</th>\n",
       "      <th></th>\n",
       "      <th></th>\n",
       "      <th></th>\n",
       "    </tr>\n",
       "  </thead>\n",
       "  <tbody>\n",
       "    <tr>\n",
       "      <th>agnikai</th>\n",
       "      <td>203257707</td>\n",
       "      <td>70</td>\n",
       "      <td>9</td>\n",
       "    </tr>\n",
       "    <tr>\n",
       "      <th>ahmanva</th>\n",
       "      <td>181697502</td>\n",
       "      <td>70</td>\n",
       "      <td>9</td>\n",
       "    </tr>\n",
       "    <tr>\n",
       "      <th>antremodes</th>\n",
       "      <td>180625739</td>\n",
       "      <td>70</td>\n",
       "      <td>1</td>\n",
       "    </tr>\n",
       "    <tr>\n",
       "      <th>anxti</th>\n",
       "      <td>203254720</td>\n",
       "      <td>70</td>\n",
       "      <td>3</td>\n",
       "    </tr>\n",
       "    <tr>\n",
       "      <th>beardzdk</th>\n",
       "      <td>203791547</td>\n",
       "      <td>70</td>\n",
       "      <td>6</td>\n",
       "    </tr>\n",
       "  </tbody>\n",
       "</table>\n",
       "</div>"
      ],
      "text/plain": [
       "              char_id  char_level  char_class\n",
       "char_name                                    \n",
       "agnikai     203257707          70           9\n",
       "ahmanva     181697502          70           9\n",
       "antremodes  180625739          70           1\n",
       "anxti       203254720          70           3\n",
       "beardzdk    203791547          70           6"
      ]
     },
     "execution_count": 6,
     "metadata": {},
     "output_type": "execute_result"
    }
   ],
   "source": [
    "members = requests.get(f'https://us.api.blizzard.com/data/wow/guild/barthilas/steamed-hams/roster?namespace=profile-us&locale=en_US&access_token={token}').json()\n",
    "\n",
    "char_id = [i['character']['id'] for i in members['members']]\n",
    "char_name = [i['character']['name'].lower() for i in members['members']]\n",
    "char_level = [i['character']['level'] for i in members['members']]\n",
    "char_class = [i['character']['playable_class']['id'] for i in members['members']]\n",
    "\n",
    "members_df = pd.DataFrame(\n",
    "    {'char_id':char_id,\n",
    "     'char_name':char_name,\n",
    "     'char_level':char_level,\n",
    "     'char_class':char_class}\n",
    ").set_index('char_name')\n",
    "members_df = members_df[members_df['char_level'] == 70].sort_values('char_name')\n",
    "members_df.head()\n"
   ]
  },
  {
   "cell_type": "markdown",
   "metadata": {},
   "source": [
    "## Get current active members"
   ]
  },
  {
   "cell_type": "code",
   "execution_count": 7,
   "metadata": {},
   "outputs": [],
   "source": [
    "time_list = []\n",
    "\n",
    "for i in members_df.index:\n",
    "    req = requests.get(f'https://us.api.blizzard.com/profile/wow/character/barthilas/{i}?namespace=profile-us&locale=en_US&access_token={token}').json()\n",
    "    ts = req.get('last_login_timestamp')\n",
    "    \n",
    "    time_list.append(ts)\n",
    "    \n",
    "members_df['last_login'] = [i / 1000 for i in time_list]\n",
    "members_df['last_login'] = pd.to_datetime(members_df['last_login'], unit='s')\n",
    "members_df['date_diff'] = members_df.last_login - pd.Timestamp.now()\n",
    "\n",
    "members_df['active_30_days'] = [i.days >= -30 for i in members_df.date_diff]\n",
    "members_df['active_60_days'] = [i.days >= -60 for i in members_df.date_diff]\n",
    "members_df"
   ]
  },
  {
   "cell_type": "markdown",
   "metadata": {},
   "source": [
    "# Subset to currently active (30/60/etc. days)"
   ]
  },
  {
   "cell_type": "code",
   "execution_count": null,
   "metadata": {},
   "outputs": [],
   "source": [
    "members_df = members_df[members_df['active_30_days']]\n",
    "#members_df.to_csv('members_list.csv')\n",
    "members_df"
   ]
  },
  {
   "cell_type": "code",
   "execution_count": null,
   "metadata": {},
   "outputs": [],
   "source": [
    "# Add useful class, spec data"
   ]
  },
  {
   "cell_type": "code",
   "execution_count": null,
   "metadata": {},
   "outputs": [],
   "source": []
  }
 ],
 "metadata": {
  "kernelspec": {
   "display_name": "Python 3",
   "language": "python",
   "name": "python3"
  },
  "language_info": {
   "codemirror_mode": {
    "name": "ipython",
    "version": 3
   },
   "file_extension": ".py",
   "mimetype": "text/x-python",
   "name": "python",
   "nbconvert_exporter": "python",
   "pygments_lexer": "ipython3",
   "version": "3.10.8"
  }
 },
 "nbformat": 4,
 "nbformat_minor": 2
}
